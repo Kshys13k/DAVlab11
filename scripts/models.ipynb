{
 "cells": [
  {
   "cell_type": "code",
   "execution_count": 1,
   "id": "e2111089",
   "metadata": {},
   "outputs": [],
   "source": [
    "import pandas as pd\n",
    "import numpy as np\n",
    "from sklearn.tree import DecisionTreeClassifier\n",
    "from sklearn.preprocessing import LabelEncoder\n",
    "from sklearn.metrics import accuracy_score"
   ]
  },
  {
   "cell_type": "markdown",
   "id": "abdf5ce4",
   "metadata": {},
   "source": [
    "# DecisionTreeClassifier"
   ]
  },
  {
   "cell_type": "code",
   "execution_count": 21,
   "id": "cae8d586",
   "metadata": {},
   "outputs": [
    {
     "name": "stdout",
     "output_type": "stream",
     "text": [
      "0.7200956937799043\n"
     ]
    },
    {
     "name": "stderr",
     "output_type": "stream",
     "text": [
      "/tmp/ipykernel_43476/1222180252.py:7: SettingWithCopyWarning: \n",
      "A value is trying to be set on a copy of a slice from a DataFrame.\n",
      "Try using .loc[row_indexer,col_indexer] = value instead\n",
      "\n",
      "See the caveats in the documentation: https://pandas.pydata.org/pandas-docs/stable/user_guide/indexing.html#returning-a-view-versus-a-copy\n",
      "  X[col] = encoder.fit_transform(X[col])\n",
      "/tmp/ipykernel_43476/1222180252.py:7: SettingWithCopyWarning: \n",
      "A value is trying to be set on a copy of a slice from a DataFrame.\n",
      "Try using .loc[row_indexer,col_indexer] = value instead\n",
      "\n",
      "See the caveats in the documentation: https://pandas.pydata.org/pandas-docs/stable/user_guide/indexing.html#returning-a-view-versus-a-copy\n",
      "  X[col] = encoder.fit_transform(X[col])\n",
      "/tmp/ipykernel_43476/1222180252.py:7: SettingWithCopyWarning: \n",
      "A value is trying to be set on a copy of a slice from a DataFrame.\n",
      "Try using .loc[row_indexer,col_indexer] = value instead\n",
      "\n",
      "See the caveats in the documentation: https://pandas.pydata.org/pandas-docs/stable/user_guide/indexing.html#returning-a-view-versus-a-copy\n",
      "  X[col] = encoder.fit_transform(X[col])\n",
      "/tmp/ipykernel_43476/1222180252.py:18: SettingWithCopyWarning: \n",
      "A value is trying to be set on a copy of a slice from a DataFrame.\n",
      "Try using .loc[row_indexer,col_indexer] = value instead\n",
      "\n",
      "See the caveats in the documentation: https://pandas.pydata.org/pandas-docs/stable/user_guide/indexing.html#returning-a-view-versus-a-copy\n",
      "  X_test[col] = encoder.fit_transform(X_test[col])\n",
      "/tmp/ipykernel_43476/1222180252.py:18: SettingWithCopyWarning: \n",
      "A value is trying to be set on a copy of a slice from a DataFrame.\n",
      "Try using .loc[row_indexer,col_indexer] = value instead\n",
      "\n",
      "See the caveats in the documentation: https://pandas.pydata.org/pandas-docs/stable/user_guide/indexing.html#returning-a-view-versus-a-copy\n",
      "  X_test[col] = encoder.fit_transform(X_test[col])\n",
      "/tmp/ipykernel_43476/1222180252.py:18: SettingWithCopyWarning: \n",
      "A value is trying to be set on a copy of a slice from a DataFrame.\n",
      "Try using .loc[row_indexer,col_indexer] = value instead\n",
      "\n",
      "See the caveats in the documentation: https://pandas.pydata.org/pandas-docs/stable/user_guide/indexing.html#returning-a-view-versus-a-copy\n",
      "  X_test[col] = encoder.fit_transform(X_test[col])\n"
     ]
    }
   ],
   "source": [
    "#load and encode train data\n",
    "df=pd.read_csv(\"../data/train.csv\")\n",
    "X=df[[\"Sex\",\"Pclass\",\"Embarked\",\"Age\"]]\n",
    "y=df[[\"Survived\"]]\n",
    "encoder = LabelEncoder()\n",
    "for col in ['Sex', 'Embarked', \"Age\"]:\n",
    "    X[col] = encoder.fit_transform(X[col])\n",
    "\n",
    "#fit model\n",
    "clf=DecisionTreeClassifier()\n",
    "clf.fit(X,y)\n",
    "\n",
    "#load test X\n",
    "df_test_X=pd.read_csv(\"../data/test.csv\")\n",
    "X_test=df_test_X[[\"Sex\",\"Pclass\",\"Embarked\",\"Age\"]]\n",
    "encoder = LabelEncoder()\n",
    "for col in ['Sex', 'Embarked', \"Age\"]:\n",
    "    X_test[col] = encoder.fit_transform(X_test[col])\n",
    "\n",
    "#make prediction\n",
    "y_pred=clf.predict(X_test)\n",
    "\n",
    "#load test y and ensure that this dataset maches test x\n",
    "df_test_y=pd.read_csv(\"../data/didsurvive.csv\")\n",
    "# print(df_test_X, df_test_X.shape)\n",
    "# print(df_test_y, df_test_y.shape)\n",
    "y_test=df_test_y[\"Survived\"]\n",
    "\n",
    "#calculate accuracy\n",
    "accuracy= accuracy_score(y_test,y_pred)\n",
    "print(accuracy)"
   ]
  },
  {
   "cell_type": "code",
   "execution_count": 24,
   "id": "e371c888",
   "metadata": {},
   "outputs": [
    {
     "name": "stdout",
     "output_type": "stream",
     "text": [
      "0.8923444976076556\n"
     ]
    }
   ],
   "source": [
    "# X, y - train X and y\n",
    "# X_test, y_test - test X and y\n",
    "\n",
    "MAX_DEPTH=4\n",
    "\n",
    "#make new model and fit it\n",
    "clf2=DecisionTreeClassifier(max_depth=MAX_DEPTH)\n",
    "clf2.fit(X,y)\n",
    "\n",
    "#make prediction\n",
    "y_pred=clf2.predict(X_test)\n",
    "\n",
    "#calculate accuracy\n",
    "accuracy= accuracy_score(y_test,y_pred)\n",
    "print(accuracy)"
   ]
  },
  {
   "cell_type": "code",
   "execution_count": 36,
   "id": "7421b838",
   "metadata": {},
   "outputs": [
    {
     "data": {
      "text/html": [
       "<div>\n",
       "<style scoped>\n",
       "    .dataframe tbody tr th:only-of-type {\n",
       "        vertical-align: middle;\n",
       "    }\n",
       "\n",
       "    .dataframe tbody tr th {\n",
       "        vertical-align: top;\n",
       "    }\n",
       "\n",
       "    .dataframe thead th {\n",
       "        text-align: right;\n",
       "    }\n",
       "</style>\n",
       "<table border=\"1\" class=\"dataframe\">\n",
       "  <thead>\n",
       "    <tr style=\"text-align: right;\">\n",
       "      <th></th>\n",
       "      <th>Sex</th>\n",
       "      <th>Pclass</th>\n",
       "      <th>Embarked</th>\n",
       "      <th>Age</th>\n",
       "      <th>Survived</th>\n",
       "    </tr>\n",
       "  </thead>\n",
       "  <tbody>\n",
       "    <tr>\n",
       "      <th>0</th>\n",
       "      <td>1</td>\n",
       "      <td>3</td>\n",
       "      <td>1</td>\n",
       "      <td>44</td>\n",
       "      <td>0</td>\n",
       "    </tr>\n",
       "    <tr>\n",
       "      <th>1</th>\n",
       "      <td>0</td>\n",
       "      <td>3</td>\n",
       "      <td>2</td>\n",
       "      <td>60</td>\n",
       "      <td>1</td>\n",
       "    </tr>\n",
       "    <tr>\n",
       "      <th>2</th>\n",
       "      <td>1</td>\n",
       "      <td>2</td>\n",
       "      <td>1</td>\n",
       "      <td>74</td>\n",
       "      <td>0</td>\n",
       "    </tr>\n",
       "    <tr>\n",
       "      <th>3</th>\n",
       "      <td>1</td>\n",
       "      <td>3</td>\n",
       "      <td>2</td>\n",
       "      <td>34</td>\n",
       "      <td>0</td>\n",
       "    </tr>\n",
       "    <tr>\n",
       "      <th>4</th>\n",
       "      <td>0</td>\n",
       "      <td>3</td>\n",
       "      <td>2</td>\n",
       "      <td>27</td>\n",
       "      <td>1</td>\n",
       "    </tr>\n",
       "    <tr>\n",
       "      <th>...</th>\n",
       "      <td>...</td>\n",
       "      <td>...</td>\n",
       "      <td>...</td>\n",
       "      <td>...</td>\n",
       "      <td>...</td>\n",
       "    </tr>\n",
       "    <tr>\n",
       "      <th>413</th>\n",
       "      <td>1</td>\n",
       "      <td>3</td>\n",
       "      <td>2</td>\n",
       "      <td>79</td>\n",
       "      <td>0</td>\n",
       "    </tr>\n",
       "    <tr>\n",
       "      <th>414</th>\n",
       "      <td>0</td>\n",
       "      <td>1</td>\n",
       "      <td>0</td>\n",
       "      <td>51</td>\n",
       "      <td>1</td>\n",
       "    </tr>\n",
       "    <tr>\n",
       "      <th>415</th>\n",
       "      <td>1</td>\n",
       "      <td>3</td>\n",
       "      <td>2</td>\n",
       "      <td>50</td>\n",
       "      <td>0</td>\n",
       "    </tr>\n",
       "    <tr>\n",
       "      <th>416</th>\n",
       "      <td>1</td>\n",
       "      <td>3</td>\n",
       "      <td>2</td>\n",
       "      <td>79</td>\n",
       "      <td>0</td>\n",
       "    </tr>\n",
       "    <tr>\n",
       "      <th>417</th>\n",
       "      <td>1</td>\n",
       "      <td>3</td>\n",
       "      <td>0</td>\n",
       "      <td>79</td>\n",
       "      <td>0</td>\n",
       "    </tr>\n",
       "  </tbody>\n",
       "</table>\n",
       "<p>418 rows × 5 columns</p>\n",
       "</div>"
      ],
      "text/plain": [
       "     Sex  Pclass  Embarked  Age  Survived\n",
       "0      1       3         1   44         0\n",
       "1      0       3         2   60         1\n",
       "2      1       2         1   74         0\n",
       "3      1       3         2   34         0\n",
       "4      0       3         2   27         1\n",
       "..   ...     ...       ...  ...       ...\n",
       "413    1       3         2   79         0\n",
       "414    0       1         0   51         1\n",
       "415    1       3         2   50         0\n",
       "416    1       3         2   79         0\n",
       "417    1       3         0   79         0\n",
       "\n",
       "[418 rows x 5 columns]"
      ]
     },
     "execution_count": 36,
     "metadata": {},
     "output_type": "execute_result"
    }
   ],
   "source": [
    "df_test=pd.concat([X_test, y_test], axis=1)\n",
    "df_test"
   ]
  },
  {
   "cell_type": "code",
   "execution_count": 42,
   "id": "1573b869",
   "metadata": {},
   "outputs": [
    {
     "name": "stdout",
     "output_type": "stream",
     "text": [
      "[0]\n",
      "[1]\n"
     ]
    }
   ],
   "source": [
    "df_men=df_test[df_test[\"Sex\"]==1]\n",
    "print(df_men[\"Survived\"].unique())\n",
    "df_women=df_test[df_test[\"Sex\"]==0]\n",
    "print(df_women[\"Survived\"].unique())"
   ]
  },
  {
   "cell_type": "markdown",
   "id": "25d76946",
   "metadata": {},
   "source": [
    "In this case in test dataset all woman have survived and all man died so the best depth is 1 with accuracy = 1. With higher depth model is overfitted."
   ]
  },
  {
   "cell_type": "code",
   "execution_count": null,
   "id": "10de3504",
   "metadata": {},
   "outputs": [],
   "source": []
  }
 ],
 "metadata": {
  "kernelspec": {
   "display_name": "Python 3 (ipykernel)",
   "language": "python",
   "name": "python3"
  },
  "language_info": {
   "codemirror_mode": {
    "name": "ipython",
    "version": 3
   },
   "file_extension": ".py",
   "mimetype": "text/x-python",
   "name": "python",
   "nbconvert_exporter": "python",
   "pygments_lexer": "ipython3",
   "version": "3.11.5"
  }
 },
 "nbformat": 4,
 "nbformat_minor": 5
}
